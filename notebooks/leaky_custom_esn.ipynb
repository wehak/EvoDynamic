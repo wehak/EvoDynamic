{
  "nbformat": 4,
  "nbformat_minor": 5,
  "metadata": {
    "kernelspec": {
      "display_name": "Python 3",
      "language": "python",
      "name": "python3"
    },
    "language_info": {
      "codemirror_mode": {
        "name": "ipython",
        "version": 3
      },
      "file_extension": ".py",
      "mimetype": "text/x-python",
      "name": "python",
      "nbconvert_exporter": "python",
      "pygments_lexer": "ipython3",
      "version": "3.6.9"
    },
    "colab": {
      "name": "leaky_custom_esn.ipynb",
      "provenance": []
    }
  },
  "cells": [
    {
      "cell_type": "code",
      "metadata": {
        "id": "sixth-title",
        "outputId": "2cd99f08-66d4-4b28-fad9-f4920970fda8",
        "colab": {
          "base_uri": "https://localhost:8080/"
        }
      },
      "source": [
        "!git clone https://github.com/SocratesNFR/EvoDynamic.git"
      ],
      "id": "sixth-title",
      "execution_count": 2,
      "outputs": [
        {
          "output_type": "stream",
          "text": [
            "Cloning into 'EvoDynamic'...\n",
            "remote: Enumerating objects: 898, done.\u001b[K\n",
            "remote: Counting objects: 100% (464/464), done.\u001b[K\n",
            "remote: Compressing objects: 100% (297/297), done.\u001b[K\n",
            "remote: Total 898 (delta 339), reused 278 (delta 163), pack-reused 434\u001b[K\n",
            "Receiving objects: 100% (898/898), 801.27 KiB | 4.35 MiB/s, done.\n",
            "Resolving deltas: 100% (633/633), done.\n"
          ],
          "name": "stdout"
        }
      ]
    },
    {
      "cell_type": "code",
      "metadata": {
        "id": "4cnNDvC8TISI"
      },
      "source": [
        "import os\n",
        "import sys\n",
        "module_path = os.path.abspath(os.path.join('..'))\n",
        "if module_path not in sys.path:\n",
        "    sys.path.append(module_path)\n",
        "    \n",
        "import numpy as np\n",
        "import networkx as nx\n",
        "import tensorflow.compat.v1 as tf\n",
        "tf.disable_v2_behavior()\n",
        "\n",
        "#from project1.lib.module import function\n",
        "from EvoDynamic.evodynamic import experiment as experiment\n",
        "from EvoDynamic.evodynamic.connection import random as conn_random\n",
        "from EvoDynamic.evodynamic.connection import custom as conn_custom\n",
        "from EvoDynamic.evodynamic import connection as connection\n",
        "from EvoDynamic.evodynamic.cells import activation as act\n",
        "\n",
        "\n"
      ],
      "id": "4cnNDvC8TISI",
      "execution_count": 6,
      "outputs": []
    },
    {
      "cell_type": "code",
      "metadata": {
        "id": "missing-asian",
        "outputId": "f86b27df-a6d5-44fd-c66f-d0dff96716cd",
        "colab": {
          "base_uri": "https://localhost:8080/",
          "height": 382
        }
      },
      "source": [
        "# Parameters\n",
        "\n",
        "# Leaky integrate and fire\n",
        "threshold = 1.0\n",
        "potential_decay = 0.01\n",
        "\n",
        "# Matrix\n",
        "path_to_matrix = \"conn_matrix/G1TEmatrix11.txt\"\n",
        "\n",
        "\"\"\"\n",
        "Part 1 \n",
        "Custom Matrix\n",
        "\n",
        "\"\"\"\n",
        "\n",
        "conn_matrix = np.loadtxt(path_to_matrix, delimiter=\",\")\n",
        "print(f\"Importing matrix of size {conn_matrix.shape[0]}x{conn_matrix.shape[1]}\")\n",
        "# width = 100\n",
        "width = conn_matrix.shape[0]# ** 2 # assumes matrix is square\n",
        "input_size = width // 8\n",
        "\n",
        "\n",
        "\n",
        "exp = experiment.Experiment()\n",
        "\n",
        "# input layer\n",
        "input_esn = exp.add_input(tf.float64, [input_size], \"input_esn\")\n",
        "\n",
        "#\n",
        "g_esn = exp.add_group_cells(name=\"g_esn\", amount=width)\n",
        "g_esn_real = g_esn.add_real_state(state_name='g_esn_bin')\n",
        "\n",
        "g_esn_real_conn = conn_custom.create_custom_matrix('g_ca_bin_conn',conn_matrix)\n",
        "\n",
        "\n",
        "\n",
        "\"\"\"\n",
        "Part 2 \n",
        "ESM\n",
        "\n",
        "\"\"\"\n",
        "\n",
        "g_esn_mem = g_esn.add_real_state(state_name='g_esn_mem')\n",
        "g_esn_spike = g_esn.add_binary_state(state_name='g_esn_spike', init ='zeros')\n",
        "g_esn_conn = conn_random.create_gaussian_matrix('g_esn_conn',width, sparsity=0.95, is_sparse=True)\n",
        "g_esn_input_conn = conn_random.create_uniform_connection('g_esn_input_conn', input_size, width, sparsity=0.9)\n",
        "\n",
        "\n",
        "exp.add_connection(\"input_conn\", connection.WeightedConnection(input_esn,\n",
        "                                                              g_esn_spike, act.integrate_and_fire,\n",
        "                                                              g_esn_input_conn,\n",
        "                                                              fargs_list=[(g_esn_mem,threshold,potential_decay)]))\n",
        "\n",
        "exp.add_connection(\"g_esn_conn\",\n",
        "                   connection.WeightedConnection(g_esn_spike,\n",
        "                                                 g_esn_spike, act.integrate_and_fire,\n",
        "                                                 g_esn_conn,\n",
        "                                                 fargs_list=[(g_esn_mem,threshold,potential_decay)]))\n",
        "\n",
        "\n",
        "exp.initialize_cells()\n",
        "\n",
        "\n",
        "\n",
        "\n",
        "weight_matrix = exp.session.run(exp.get_connection(\"g_esn_conn\").w)\n",
        "\n",
        "G = nx.DiGraph()\n",
        "G.add_edges_from(weight_matrix[0])\n",
        "\n",
        "pos_fixed = nx.circular_layout(G)\n",
        "\n",
        "# Animation\n",
        "import matplotlib.pyplot as plt\n",
        "import matplotlib.animation as animation\n",
        "\n",
        "fig, axs = plt.subplots(nrows=1, ncols=3)\n",
        "\n",
        "plt.title('Step: 0')\n",
        "current_mem = exp.get_group_cells_state(\"g_esn\", \"g_esn_mem\")[:,0]\n",
        "current_spike = exp.get_group_cells_state(\"g_esn\", \"g_esn_spike\")[:,0]\n",
        "\n",
        "node_color = [round(current_spike[node],2) for node in G]\n",
        "\n",
        "nx.draw(G.reverse(), node_color = node_color, pos=pos_fixed, cmap=plt.cm.jet,\n",
        "        connectionstyle=\"arc3, rad=0.1\", ax=axs[0])\n",
        "\n",
        "idx_plot_neuron = 50\n",
        "plot_width = 200\n",
        "x_values = np.array([0])\n",
        "mem_values = np.array([round(current_mem[idx_plot_neuron],2)])\n",
        "spike_values, = np.where(current_spike == 1)\n",
        "scatter_values = np.full_like(spike_values, 0)\n",
        "axs_1, = axs[1].plot(x_values, mem_values)\n",
        "axs_2 = axs[2].scatter(scatter_values, spike_values)\n",
        "\n",
        "xmin, xmax = np.min(x_values), np.min(x_values)+plot_width\n",
        "ymin, ymax = -2.0, 2.0\n",
        "axs[1].set(xlim=(xmin, xmax), ylim=(ymin, ymax))\n",
        "axs[2].set(xlim=(xmin, xmax), ylim=(-1, width))\n",
        "\n",
        "idx_anim = 0\n",
        "\n",
        "def updatefig(*args):\n",
        "  global idx_anim, x_values, mem_values, spike_values, scatter_values#, axs_1, axs_2\n",
        "\n",
        "  axs[0].clear()\n",
        "\n",
        "  exp.run_step(feed_dict={input_esn: np.random.randint(2, size=(input_size,1))})\n",
        "\n",
        "  current_mem = exp.get_group_cells_state(\"g_esn\", \"g_esn_mem\")[:,0]\n",
        "  current_spike = exp.get_group_cells_state(\"g_esn\", \"g_esn_spike\")[:,0]\n",
        "\n",
        "\n",
        "  current_spike_values = np.where(current_spike == 1)[0]\n",
        "  current_scatter_values = np.full_like(current_spike_values, idx_anim+1)\n",
        "  if idx_anim >= plot_width:\n",
        "    x_values = np.concatenate((x_values[1:], [np.max(x_values)+1]))\n",
        "    mem_values = np.concatenate((mem_values[1:], [current_mem[idx_plot_neuron]]))\n",
        "    spike_values =  np.concatenate((spike_values[scatter_values>(idx_anim-plot_width)], current_spike_values))\n",
        "    scatter_values = np.concatenate((scatter_values[scatter_values>(idx_anim-plot_width)], current_scatter_values))\n",
        "  else:\n",
        "    x_values = np.concatenate((x_values, [np.max(x_values)+1]))\n",
        "    mem_values = np.concatenate((mem_values, [current_mem[idx_plot_neuron]]))\n",
        "    spike_values =  np.concatenate((spike_values, np.where(current_spike == 1)[0]))\n",
        "    scatter_values = np.concatenate((scatter_values, current_scatter_values))\n",
        "\n",
        "  node_color = [round(current_spike[node],2) for node in G]\n",
        "  nx.draw(G.reverse(), node_color = node_color, pos=pos_fixed, cmap=plt.cm.jet,\n",
        "          connectionstyle=\"arc3, rad=0.1\", ax=axs[0])\n",
        "\n",
        "  xmin, xmax = np.min(x_values), np.min(x_values)+plot_width\n",
        "  axs[1].set(xlim=(xmin, xmax))\n",
        "  axs[2].set(xlim=(xmin, xmax))\n",
        "\n",
        "  axs_1.set_data(x_values, mem_values)\n",
        "  axs_2.set_offsets(np.vstack((scatter_values, spike_values)).transpose())\n",
        "\n",
        "  plt.title('Step: '+str(idx_anim))\n",
        "  idx_anim += 1\n",
        "\n",
        "\n",
        "ani = animation.FuncAnimation(fig, updatefig, frames=30, interval=500, blit=False)\n",
        "\n",
        "plt.show()\n",
        "\n",
        "plt.connect('close_event', exp.close())"
      ],
      "id": "missing-asian",
      "execution_count": 7,
      "outputs": [
        {
          "output_type": "error",
          "ename": "OSError",
          "evalue": "ignored",
          "traceback": [
            "\u001b[0;31m---------------------------------------------------------------------------\u001b[0m",
            "\u001b[0;31mOSError\u001b[0m                                   Traceback (most recent call last)",
            "\u001b[0;32m<ipython-input-7-4b8ba29a25c0>\u001b[0m in \u001b[0;36m<module>\u001b[0;34m()\u001b[0m\n\u001b[1;32m     14\u001b[0m \"\"\"\n\u001b[1;32m     15\u001b[0m \u001b[0;34m\u001b[0m\u001b[0m\n\u001b[0;32m---> 16\u001b[0;31m \u001b[0mconn_matrix\u001b[0m \u001b[0;34m=\u001b[0m \u001b[0mnp\u001b[0m\u001b[0;34m.\u001b[0m\u001b[0mloadtxt\u001b[0m\u001b[0;34m(\u001b[0m\u001b[0mpath_to_matrix\u001b[0m\u001b[0;34m,\u001b[0m \u001b[0mdelimiter\u001b[0m\u001b[0;34m=\u001b[0m\u001b[0;34m\",\"\u001b[0m\u001b[0;34m)\u001b[0m\u001b[0;34m\u001b[0m\u001b[0;34m\u001b[0m\u001b[0m\n\u001b[0m\u001b[1;32m     17\u001b[0m \u001b[0mprint\u001b[0m\u001b[0;34m(\u001b[0m\u001b[0;34mf\"Importing matrix of size {conn_matrix.shape[0]}x{conn_matrix.shape[1]}\"\u001b[0m\u001b[0;34m)\u001b[0m\u001b[0;34m\u001b[0m\u001b[0;34m\u001b[0m\u001b[0m\n\u001b[1;32m     18\u001b[0m \u001b[0;31m# width = 100\u001b[0m\u001b[0;34m\u001b[0m\u001b[0;34m\u001b[0m\u001b[0;34m\u001b[0m\u001b[0m\n",
            "\u001b[0;32m/usr/local/lib/python3.7/dist-packages/numpy/lib/npyio.py\u001b[0m in \u001b[0;36mloadtxt\u001b[0;34m(fname, dtype, comments, delimiter, converters, skiprows, usecols, unpack, ndmin, encoding, max_rows)\u001b[0m\n\u001b[1;32m    959\u001b[0m             \u001b[0mfname\u001b[0m \u001b[0;34m=\u001b[0m \u001b[0mos_fspath\u001b[0m\u001b[0;34m(\u001b[0m\u001b[0mfname\u001b[0m\u001b[0;34m)\u001b[0m\u001b[0;34m\u001b[0m\u001b[0;34m\u001b[0m\u001b[0m\n\u001b[1;32m    960\u001b[0m         \u001b[0;32mif\u001b[0m \u001b[0m_is_string_like\u001b[0m\u001b[0;34m(\u001b[0m\u001b[0mfname\u001b[0m\u001b[0;34m)\u001b[0m\u001b[0;34m:\u001b[0m\u001b[0;34m\u001b[0m\u001b[0;34m\u001b[0m\u001b[0m\n\u001b[0;32m--> 961\u001b[0;31m             \u001b[0mfh\u001b[0m \u001b[0;34m=\u001b[0m \u001b[0mnp\u001b[0m\u001b[0;34m.\u001b[0m\u001b[0mlib\u001b[0m\u001b[0;34m.\u001b[0m\u001b[0m_datasource\u001b[0m\u001b[0;34m.\u001b[0m\u001b[0mopen\u001b[0m\u001b[0;34m(\u001b[0m\u001b[0mfname\u001b[0m\u001b[0;34m,\u001b[0m \u001b[0;34m'rt'\u001b[0m\u001b[0;34m,\u001b[0m \u001b[0mencoding\u001b[0m\u001b[0;34m=\u001b[0m\u001b[0mencoding\u001b[0m\u001b[0;34m)\u001b[0m\u001b[0;34m\u001b[0m\u001b[0;34m\u001b[0m\u001b[0m\n\u001b[0m\u001b[1;32m    962\u001b[0m             \u001b[0mfencoding\u001b[0m \u001b[0;34m=\u001b[0m \u001b[0mgetattr\u001b[0m\u001b[0;34m(\u001b[0m\u001b[0mfh\u001b[0m\u001b[0;34m,\u001b[0m \u001b[0;34m'encoding'\u001b[0m\u001b[0;34m,\u001b[0m \u001b[0;34m'latin1'\u001b[0m\u001b[0;34m)\u001b[0m\u001b[0;34m\u001b[0m\u001b[0;34m\u001b[0m\u001b[0m\n\u001b[1;32m    963\u001b[0m             \u001b[0mfh\u001b[0m \u001b[0;34m=\u001b[0m \u001b[0miter\u001b[0m\u001b[0;34m(\u001b[0m\u001b[0mfh\u001b[0m\u001b[0;34m)\u001b[0m\u001b[0;34m\u001b[0m\u001b[0;34m\u001b[0m\u001b[0m\n",
            "\u001b[0;32m/usr/local/lib/python3.7/dist-packages/numpy/lib/_datasource.py\u001b[0m in \u001b[0;36mopen\u001b[0;34m(path, mode, destpath, encoding, newline)\u001b[0m\n\u001b[1;32m    193\u001b[0m \u001b[0;34m\u001b[0m\u001b[0m\n\u001b[1;32m    194\u001b[0m     \u001b[0mds\u001b[0m \u001b[0;34m=\u001b[0m \u001b[0mDataSource\u001b[0m\u001b[0;34m(\u001b[0m\u001b[0mdestpath\u001b[0m\u001b[0;34m)\u001b[0m\u001b[0;34m\u001b[0m\u001b[0;34m\u001b[0m\u001b[0m\n\u001b[0;32m--> 195\u001b[0;31m     \u001b[0;32mreturn\u001b[0m \u001b[0mds\u001b[0m\u001b[0;34m.\u001b[0m\u001b[0mopen\u001b[0m\u001b[0;34m(\u001b[0m\u001b[0mpath\u001b[0m\u001b[0;34m,\u001b[0m \u001b[0mmode\u001b[0m\u001b[0;34m,\u001b[0m \u001b[0mencoding\u001b[0m\u001b[0;34m=\u001b[0m\u001b[0mencoding\u001b[0m\u001b[0;34m,\u001b[0m \u001b[0mnewline\u001b[0m\u001b[0;34m=\u001b[0m\u001b[0mnewline\u001b[0m\u001b[0;34m)\u001b[0m\u001b[0;34m\u001b[0m\u001b[0;34m\u001b[0m\u001b[0m\n\u001b[0m\u001b[1;32m    196\u001b[0m \u001b[0;34m\u001b[0m\u001b[0m\n\u001b[1;32m    197\u001b[0m \u001b[0;34m\u001b[0m\u001b[0m\n",
            "\u001b[0;32m/usr/local/lib/python3.7/dist-packages/numpy/lib/_datasource.py\u001b[0m in \u001b[0;36mopen\u001b[0;34m(self, path, mode, encoding, newline)\u001b[0m\n\u001b[1;32m    533\u001b[0m                                       encoding=encoding, newline=newline)\n\u001b[1;32m    534\u001b[0m         \u001b[0;32melse\u001b[0m\u001b[0;34m:\u001b[0m\u001b[0;34m\u001b[0m\u001b[0;34m\u001b[0m\u001b[0m\n\u001b[0;32m--> 535\u001b[0;31m             \u001b[0;32mraise\u001b[0m \u001b[0mIOError\u001b[0m\u001b[0;34m(\u001b[0m\u001b[0;34m\"%s not found.\"\u001b[0m \u001b[0;34m%\u001b[0m \u001b[0mpath\u001b[0m\u001b[0;34m)\u001b[0m\u001b[0;34m\u001b[0m\u001b[0;34m\u001b[0m\u001b[0m\n\u001b[0m\u001b[1;32m    536\u001b[0m \u001b[0;34m\u001b[0m\u001b[0m\n\u001b[1;32m    537\u001b[0m \u001b[0;34m\u001b[0m\u001b[0m\n",
            "\u001b[0;31mOSError\u001b[0m: conn_matrix/G1TEmatrix11.txt not found."
          ]
        }
      ]
    },
    {
      "cell_type": "code",
      "metadata": {
        "id": "afraid-amino"
      },
      "source": [
        ""
      ],
      "id": "afraid-amino",
      "execution_count": null,
      "outputs": []
    }
  ]
}